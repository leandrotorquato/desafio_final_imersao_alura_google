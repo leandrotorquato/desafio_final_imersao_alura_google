{
  "nbformat": 4,
  "nbformat_minor": 0,
  "metadata": {
    "colab": {
      "provenance": [],
      "authorship_tag": "ABX9TyPVhpdh+nDLYXsMZa9wdI8W",
      "include_colab_link": true
    },
    "kernelspec": {
      "name": "python3",
      "display_name": "Python 3"
    },
    "language_info": {
      "name": "python"
    }
  },
  "cells": [
    {
      "cell_type": "markdown",
      "metadata": {
        "id": "view-in-github",
        "colab_type": "text"
      },
      "source": [
        "<a href=\"https://colab.research.google.com/github/leandrotorquato/desafio_final_imersao_alura_google/blob/main/chat_bot_desafio_final.ipynb\" target=\"_parent\"><img src=\"https://colab.research.google.com/assets/colab-badge.svg\" alt=\"Open In Colab\"/></a>"
      ]
    },
    {
      "cell_type": "markdown",
      "source": [
        "*projeto final*"
      ],
      "metadata": {
        "id": "dln94ZLjSncP"
      }
    },
    {
      "cell_type": "code",
      "source": [
        "import google.generativeai as genai\n",
        "from google.colab import userdata\n",
        "api_key = userdata.get('SECRET_KEY')\n",
        "genai.configure(api_key=api_key)"
      ],
      "metadata": {
        "id": "bdYwI67TLefh"
      },
      "execution_count": 1,
      "outputs": []
    },
    {
      "cell_type": "markdown",
      "source": [
        "*Setup do modelo*"
      ],
      "metadata": {
        "id": "UE9yiNJ-Swln"
      }
    },
    {
      "cell_type": "code",
      "source": [
        "generation_config = {\n",
        "    \"candidate_count\": 1,\n",
        "    \"temperature\": 0.5,\n",
        "}"
      ],
      "metadata": {
        "id": "4CCLgywdMMZr"
      },
      "execution_count": 3,
      "outputs": []
    },
    {
      "cell_type": "code",
      "source": [
        "safety_settings = {\n",
        "    \"HARASSMENT\": \"BLOCK_NONE\",\n",
        "    \"HATE\": \"BLOCK_NONE\",\n",
        "    \"SEXUAL\": \"BLOCK_NONE\",\n",
        "    \"DANGEROUS\": \"BLOCK_NONE\",\n",
        "}"
      ],
      "metadata": {
        "id": "OeRhqqauMQ5I"
      },
      "execution_count": 4,
      "outputs": []
    },
    {
      "cell_type": "code",
      "source": [
        "model = genai.GenerativeModel(model_name='gemini-1.0-pro',\n",
        "                              generation_config=generation_config,\n",
        "                              safety_settings=safety_settings)"
      ],
      "metadata": {
        "id": "Z66S3HeHL6Ei"
      },
      "execution_count": 5,
      "outputs": []
    },
    {
      "cell_type": "code",
      "source": [
        "chat = model.start_chat(history=[])"
      ],
      "metadata": {
        "id": "idKIHlgCNuQA"
      },
      "execution_count": 7,
      "outputs": []
    },
    {
      "cell_type": "markdown",
      "source": [
        "*ChatBot - Athena, a deusa da sabedoria*"
      ],
      "metadata": {
        "id": "GUQ92HAgTG3r"
      }
    },
    {
      "cell_type": "code",
      "source": [
        "prompt = input(\"Olá, tudo bem?\" \"\\n\\n\" \"Meu nome é Athena, a deusa da sabedoria, uma assistente inteligente e pronta a te ajudar!\"  \"\\n\\n\" \"O que você quer aprender hoje? \" \"\\n\\n\")\n",
        "\n",
        "while prompt != \"Fim\":\n",
        "  response = chat.send_message(prompt)\n",
        "\n",
        "  print(\"\\n\" \"Será um prazer em te ajudar!\" \"\\n\\n\", response.text, \"\\n\")\n",
        "  prompt = input(\"Posso te ajudar em algo mais? \" \"\\n\")"
      ],
      "metadata": {
        "colab": {
          "base_uri": "https://localhost:8080/",
          "height": 1000
        },
        "id": "SctCfY9TODOe",
        "outputId": "e3f91ef7-25bc-4081-ed12-e8ae32c709ea"
      },
      "execution_count": 23,
      "outputs": [
        {
          "name": "stdout",
          "output_type": "stream",
          "text": [
            "Olá, tudo bem?\n",
            "\n",
            "Meu nome é Athena, a deusa da sabedoria, uma assistente inteligente e pronta a te ajudar!\n",
            "\n",
            "O que você quer aprender hoje? \n",
            "\n",
            "Sobre a Alura\n",
            "\n",
            "Será um prazer em te ajudar!\n",
            "\n",
            " **Alura**\n",
            "\n",
            "A Alura é uma plataforma de educação online brasileira que oferece cursos em diversas áreas, incluindo tecnologia, negócios, design e marketing.\n",
            "\n",
            "**História:**\n",
            "\n",
            "* A Alura foi fundada em 2011 por André Barrence e Guilherme Junqueira.\n",
            "* A empresa começou oferecendo cursos de programação, mas desde então expandiu sua oferta para incluir uma ampla gama de tópicos.\n",
            "\n",
            "**Cursos:**\n",
            "\n",
            "A Alura oferece mais de 1.200 cursos em áreas como:\n",
            "\n",
            "* **Tecnologia:** Desenvolvimento de software, ciência de dados, inteligência artificial.\n",
            "* **Negócios:** Administração, finanças, marketing digital.\n",
            "* **Design:** Design gráfico, UX design, design de produto.\n",
            "* **Marketing:** Marketing de conteúdo, marketing de mídia social, marketing de e-commerce.\n",
            "\n",
            "**Formato dos Cursos:**\n",
            "\n",
            "Os cursos da Alura são ministrados em formato online, com vídeos, exercícios e avaliações. Os alunos podem acessar os cursos a qualquer hora e em qualquer lugar.\n",
            "\n",
            "**Público-alvo:**\n",
            "\n",
            "Os cursos da Alura são voltados para profissionais que buscam aprimorar suas habilidades, estudantes que desejam se preparar para o mercado de trabalho e pessoas que buscam aprender novas habilidades.\n",
            "\n",
            "**Recursos:**\n",
            "\n",
            "Além dos cursos, a Alura oferece vários recursos para seus alunos, incluindo:\n",
            "\n",
            "* **Fórum de discussão:** Um espaço para os alunos interagirem entre si e com os instrutores.\n",
            "* **Suporte técnico:** Suporte para alunos com problemas técnicos.\n",
            "* **Certificados:** Os alunos recebem certificados de conclusão após a conclusão dos cursos.\n",
            "\n",
            "**Parcerias:**\n",
            "\n",
            "A Alura tem parcerias com várias empresas de tecnologia e educação, incluindo Google, Microsoft e Coursera.\n",
            "\n",
            "**Conclusão:**\n",
            "\n",
            "A Alura é uma plataforma de educação online líder no Brasil, oferecendo uma ampla gama de cursos em áreas de alta demanda. Com seu formato flexível e recursos abrangentes, a Alura ajuda os alunos a desenvolver as habilidades necessárias para ter sucesso em suas carreiras e vidas pessoais. \n",
            "\n",
            "Posso te ajudar em algo mais? \n",
            "Sim, gostaria de saber mais sobre o Gemini, a IA do Google \n",
            "\n",
            "Será um prazer em te ajudar!\n",
            "\n",
            " **Gemini, a IA do Google**\n",
            "\n",
            "Gemini é um modelo de linguagem de IA multimodal desenvolvido pelo Google. É treinado em um conjunto de dados massivo de texto e código, o que lhe permite entender e gerar linguagem humana, responder perguntas e executar várias outras tarefas relacionadas à linguagem.\n",
            "\n",
            "**Recursos:**\n",
            "\n",
            "* **Compreensão de linguagem natural:** Gemini pode entender o significado do texto, mesmo que seja complexo ou ambíguo.\n",
            "* **Geração de linguagem natural:** Gemini pode gerar texto fluente e coerente, incluindo artigos, histórias e código.\n",
            "* **Resposta a perguntas:** Gemini pode responder a perguntas com base em seu conhecimento do mundo, que é atualizado regularmente.\n",
            "* **Tradução:** Gemini pode traduzir texto entre mais de 100 idiomas.\n",
            "* **Resumo:** Gemini pode resumir longos trechos de texto em resumos mais curtos e informativos.\n",
            "* **Classificação de texto:** Gemini pode classificar texto em categorias ou tópicos específicos.\n",
            "\n",
            "**Aplicações:**\n",
            "\n",
            "Gemini tem uma ampla gama de aplicações potenciais, incluindo:\n",
            "\n",
            "* **Assistentes virtuais:** Gemini pode ser usado para criar assistentes virtuais que podem ajudar os usuários com tarefas como agendar compromissos, responder e-mails e fornecer informações.\n",
            "* **Chatbots:** Gemini pode ser usado para criar chatbots que podem se envolver em conversas naturais com os usuários.\n",
            "* **Pesquisa:** Gemini pode ser usado para melhorar os mecanismos de pesquisa, fornecendo resultados mais relevantes e informativos.\n",
            "* **Educação:** Gemini pode ser usado para criar ferramentas educacionais que podem ajudar os alunos a aprender de forma mais eficaz.\n",
            "* **Atendimento ao cliente:** Gemini pode ser usado para automatizar tarefas de atendimento ao cliente, como responder perguntas e resolver problemas.\n",
            "\n",
            "**Desafios:**\n",
            "\n",
            "Apesar de seus recursos poderosos, Gemini ainda enfrenta alguns desafios, incluindo:\n",
            "\n",
            "* **Preconceito:** Gemini pode ser tendencioso se for treinado em dados tendenciosos.\n",
            "* **Desinformação:** Gemini pode gerar informações falsas ou enganosas se for treinado em dados não confiáveis.\n",
            "* **Falta de raciocínio:** Gemini não é capaz de raciocinar ou pensar criticamente como os humanos.\n",
            "\n",
            "**Conclusão:**\n",
            "\n",
            "Gemini é um modelo de linguagem de IA multimodal promissor com uma ampla gama de aplicações potenciais. No entanto, é importante estar ciente de seus desafios e usá-lo com cuidado para evitar resultados tendenciosos ou enganosos. \n",
            "\n",
            "Posso te ajudar em algo mais? \n",
            "Fim\n"
          ]
        }
      ]
    }
  ]
}